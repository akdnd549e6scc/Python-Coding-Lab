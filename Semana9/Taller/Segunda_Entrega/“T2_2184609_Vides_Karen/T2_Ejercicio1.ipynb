{
 "cells": [
  {
   "cell_type": "code",
   "execution_count": 19,
   "id": "aec0f9e2",
   "metadata": {},
   "outputs": [],
   "source": [
    "import numpy as np\n",
    "import sympy as sp\n",
    "import pandas as pd\n",
    "import matplotlib.pyplot as plt"
   ]
  },
  {
   "cell_type": "code",
   "execution_count": 20,
   "id": "c35571aa",
   "metadata": {},
   "outputs": [],
   "source": [
    "#numero de CÓDIGO:2184609 \n",
    "# Como se obtuvo el valor de X para el ejercicio\n",
    "codigo = \"2184609\"\n",
    "X = sum ([int(i) for i in codigo])\n",
    "# x = 30\n",
    "Y=X/3\n",
    "# Y=10\n",
    "# Para hallar longitudes de la viga (m)\n",
    "L1 = (0.05 * X)\n",
    "#1.5\n",
    "L2 =(0.05 * X)*1.5\n",
    "#2.25\n",
    "L3 = (0.05 * X)*0.5\n",
    "#0.75\n",
    "# cargas kN\n",
    "P = 0.05*X\n",
    "#1.5\n",
    "# distribuida kN / m\n",
    "w = 0.005*X+0.01*Y\n",
    "#0.25\n",
    "viga = {  \"L1\": 1.5,\"L2\": 2.25, \"L3\": 0.75, \"w\": 0.25,\"P\": 1.5,}"
   ]
  },
  {
   "cell_type": "code",
   "execution_count": 21,
   "id": "c0a2dde4",
   "metadata": {},
   "outputs": [],
   "source": [
    "import sympy as sp"
   ]
  },
  {
   "cell_type": "code",
   "execution_count": 22,
   "id": "2c7c1108",
   "metadata": {},
   "outputs": [],
   "source": [
    "Ay, Ma, x = sp.symbols(\" Ay Ma x \")"
   ]
  },
  {
   "cell_type": "code",
   "execution_count": 23,
   "id": "c1144a15",
   "metadata": {},
   "outputs": [
    {
     "data": {
      "text/latex": [
       "$\\displaystyle -0.65625$"
      ],
      "text/plain": [
       "-0.656250000000000"
      ]
     },
     "execution_count": 23,
     "metadata": {},
     "output_type": "execute_result"
    }
   ],
   "source": [
    "# Equilibrio en y\n",
    "Equilibrio_y = Ay + viga[\"P\"] - viga[\"w\"] * viga[\"L1\"] / 2 - viga[\"w\"] * ( viga[\"L3\"]) / 2 - viga[\"w\"] * viga[\"L2\"]\n",
    "Ecuacion_y = sp.Eq(Equilibrio_y, 0)\n",
    "R_Ay =  sp.solve(Ecuacion_y)[0]\n",
    "R_Ay"
   ]
  },
  {
   "cell_type": "code",
   "execution_count": 24,
   "id": "44e295a7",
   "metadata": {},
   "outputs": [
    {
     "data": {
      "text/latex": [
       "$\\displaystyle -4.7109375$"
      ],
      "text/plain": [
       "-4.71093750000000"
      ]
     },
     "execution_count": 24,
     "metadata": {},
     "output_type": "execute_result"
    }
   ],
   "source": [
    "# EQULIBRIO MOMENTOS\n",
    "Equilibrio_M =  Ma + viga[\"P\"] * (viga[\"L1\"] + viga[\"L2\"] + viga[\"L3\"]) - viga[\"w\"] * viga[\"L1\"] / 2 * (2 * viga[\"L1\"] / 3) - viga[\"w\"] * viga[\"L2\"] * (viga[\"L1\"] + viga[\"L2\"] / 2) - viga[\"w\"] * viga[\"L3\"] / 2 * (viga[\"L1\"] + viga[\"L2\"] +  viga[\"L3\"] / 3)\n",
    "Ecuacion_M = sp.Eq(Equilibrio_M, 0)\n",
    "R_Ma =  sp.solve(Ecuacion_M)[0]\n",
    "# kN - m\n",
    "R_Ma"
   ]
  },
  {
   "cell_type": "code",
   "execution_count": 25,
   "id": "620a1026",
   "metadata": {},
   "outputs": [
    {
     "data": {
      "text/latex": [
       "$\\displaystyle - 0.0277777777777778 x^{3} - 0.65625 x + 4.7109375$"
      ],
      "text/plain": [
       "-0.0277777777777778*x**3 - 0.65625*x + 4.7109375"
      ]
     },
     "execution_count": 25,
     "metadata": {},
     "output_type": "execute_result"
    }
   ],
   "source": [
    "# ECUACIONES DE CORTANTE Y MOMENTO \n",
    "# PARA EL PRIMER TRAMO\n",
    "# 0 <= x <= L1\n",
    "carga_distribuida = viga[\"w\"] * x / viga[\"L1\"]\n",
    "# - integral carga * dx + V(x)\n",
    "Vx_1 = R_Ay - sp.integrate(carga_distribuida, x)\n",
    "\n",
    "Mx_1 = - R_Ma + sp.integrate(Vx_1, x)\n",
    "Mx_1"
   ]
  },
  {
   "cell_type": "code",
   "execution_count": 26,
   "id": "03d6f3e9",
   "metadata": {},
   "outputs": [
    {
     "data": {
      "text/latex": [
       "$\\displaystyle - 0.125 x^{2} - 0.84375 x + 3.6328125$"
      ],
      "text/plain": [
       "-0.125*x**2 - 0.84375*x + 3.6328125"
      ]
     },
     "execution_count": 26,
     "metadata": {},
     "output_type": "execute_result"
    }
   ],
   "source": [
    "# SEGUNDO TRAMO\n",
    "# 0 <= x <= L2\n",
    "carga_distribuida = viga[\"w\"]\n",
    "# - integral carga * dx + V(x)\n",
    "Vx_2 =  Vx_1.subs(x, viga[\"L1\"]) - sp.integrate(carga_distribuida, x)\n",
    "\n",
    "Mx_2 = Mx_1.subs(x, viga[\"L1\"]) + sp.integrate(Vx_2, x)\n",
    "Mx_2"
   ]
  },
  {
   "cell_type": "code",
   "execution_count": 27,
   "id": "593f3136",
   "metadata": {},
   "outputs": [
    {
     "data": {
      "text/latex": [
       "$\\displaystyle 0.0555555555555556 x^{3} - 0.125 x^{2} + 0.09375 x + 1.1015625$"
      ],
      "text/plain": [
       "0.0555555555555556*x**3 - 0.125*x**2 + 0.09375*x + 1.1015625"
      ]
     },
     "execution_count": 27,
     "metadata": {},
     "output_type": "execute_result"
    }
   ],
   "source": [
    "#  TERCER TRAMO\n",
    "# 0 <= x <= L3\n",
    "carga_distribuida = - viga[\"w\"] * x / viga[\"L3\"] +  viga[\"w\"]\n",
    "# - integral carga * dx + V(x)\n",
    "Vx_3 = viga[\"P\"] + Vx_2.subs(x, viga[\"L2\"]) - sp.integrate(carga_distribuida, x)\n",
    "\n",
    "Mx_3 = Mx_2.subs(x, viga[\"L2\"]) + sp.integrate(Vx_3, x)\n",
    "Mx_3"
   ]
  },
  {
   "cell_type": "code",
   "execution_count": 28,
   "id": "c7e055e9",
   "metadata": {},
   "outputs": [],
   "source": [
    "import numpy as np"
   ]
  },
  {
   "cell_type": "code",
   "execution_count": 29,
   "id": "0326b260",
   "metadata": {},
   "outputs": [
    {
     "data": {
      "image/png": "[encoded data removed]",
      "text/plain": [
       "<Figure size 432x288 with 1 Axes>"
      ]
     },
     "metadata": {
      "needs_background": "light"
     },
     "output_type": "display_data"
    },
    {
     "data": {
      "text/plain": [
       "<sympy.plotting.plot.Plot at 0x12782459990>"
      ]
     },
     "execution_count": 29,
     "metadata": {},
     "output_type": "execute_result"
    }
   ],
   "source": [
    "# Diagrama de fuerza cortante\n",
    "x_array = np.arange(0, viga[\"L1\"] + viga[\"L2\"] + viga[\"L3\"] + 0.01, 0.01)\n",
    "# obtener arrays reemplazando la funcion de cada tramo\n",
    "Tramo1 = sp.lambdify(x, Vx_1)(x_array[x_array <= viga[\"L1\"]])\n",
    "Tramo2 = sp.lambdify(x, Vx_2)(x_array[(x_array > viga[\"L1\"]) & (x_array <= (viga[\"L1\"] + viga[\"L2\"]))] - viga[\"L1\"])\n",
    "Tramo3 = sp.lambdify(x, Vx_3)(x_array[x_array > (viga[\"L1\"] + viga[\"L2\"])] - viga[\"L1\"] - viga[\"L2\"])\n",
    "\n",
    "cortante_y = np.concatenate((Tramo1, Tramo2, Tramo3))\n",
    "sp.plot((Vx_1, (x, 0, viga[\"L1\"])), (Vx_2.subs(x, x - viga[\"L1\"]), (x, viga[\"L1\"], viga[\"L1\"] + viga[\"L2\"])), (Vx_3.subs(x, x - (viga[\"L1\"] + viga[\"L2\"])), (x, (viga[\"L1\"] + viga[\"L2\"]), viga[\"L1\"] + viga[\"L2\"])))"
   ]
  },
  {
   "cell_type": "code",
   "execution_count": 30,
   "id": "7c8838e4",
   "metadata": {},
   "outputs": [
    {
     "data": {
      "image/png": "[encoded data removed]",
      "text/plain": [
       "<Figure size 432x288 with 1 Axes>"
      ]
     },
     "metadata": {
      "needs_background": "light"
     },
     "output_type": "display_data"
    },
    {
     "data": {
      "text/plain": [
       "<sympy.plotting.plot.Plot at 0x12782301750>"
      ]
     },
     "execution_count": 30,
     "metadata": {},
     "output_type": "execute_result"
    }
   ],
   "source": [
    "# Diagrama momento flector\n",
    "x_array = np.arange(0, viga[\"L1\"] + viga[\"L2\"] + viga[\"L3\"] + 0.01, 0.01)\n",
    "# obtener arrays reemplazando la funcion de cada tramo\n",
    "Tramo1 = sp.lambdify(x, Mx_1)(x_array[x_array <= viga[\"L1\"]])\n",
    "Tramo2 = sp.lambdify(x, Mx_2)(x_array[(x_array > viga[\"L1\"]) & (x_array <= (viga[\"L1\"] + viga[\"L2\"]))] - viga[\"L1\"])\n",
    "Tramo3 = sp.lambdify(x, Mx_3)(x_array[x_array > (viga[\"L1\"] + viga[\"L2\"])] - viga[\"L1\"] - viga[\"L2\"])\n",
    "\n",
    "M_y = np.concatenate((Tramo1, Tramo2, Tramo3))\n",
    "sp.plot((Mx_1, (x, 0, viga[\"L1\"])), (Mx_2.subs(x, x - viga[\"L1\"]), (x, viga[\"L1\"], viga[\"L1\"] + viga[\"L2\"])), (Mx_3.subs(x, x - (viga[\"L1\"] + viga[\"L2\"])), (x, (viga[\"L1\"] + viga[\"L2\"]), viga[\"L1\"] + viga[\"L2\"])))"
   ]
  },
  {
   "cell_type": "code",
   "execution_count": 31,
   "id": "90b12de3",
   "metadata": {},
   "outputs": [
    {
     "data": {
      "text/plain": [
       "4.7109375"
      ]
     },
     "execution_count": 31,
     "metadata": {},
     "output_type": "execute_result"
    }
   ],
   "source": [
    "# unidades kN - m\n",
    "#momento maximo\n",
    "M_maximo = 0\n",
    "M_maximo_positivo = np.amax(M_y)\n",
    "M_maximo_negativo = np.amin(M_y)\n",
    "\n",
    "if np.abs(M_maximo_negativo) > M_maximo_positivo:\n",
    "    M_maximo = np.abs(M_maximo_negativo)\n",
    "else: \n",
    "  M_maximo= M_maximo_positivo\n",
    "\n",
    "M_maximo"
   ]
  },
  {
   "cell_type": "code",
   "execution_count": 32,
   "id": "9155faae",
   "metadata": {},
   "outputs": [
    {
     "data": {
      "text/plain": [
       "1.40625"
      ]
     },
     "execution_count": 32,
     "metadata": {},
     "output_type": "execute_result"
    }
   ],
   "source": [
    "# unidad kN \n",
    "#cortante maximo\n",
    "cortante_maximo = 0\n",
    "cortante_maximo_positivo = np.amax(cortante_y)\n",
    "cortante_maximo_negativo = np.amin(cortante_y)\n",
    "\n",
    "if np.abs(cortante_maximo_negativo) > cortante_maximo_positivo:\n",
    "    cortante_maximo = np.abs(cortante_maximo_negativo)\n",
    "else: \n",
    "   cortante_maximo =cortante_maximo_positivo\n",
    "\n",
    "cortante_maximo"
   ]
  }
 ],
 "metadata": {
  "kernelspec": {
   "display_name": "Python 3 (ipykernel)",
   "language": "python",
   "name": "python3"
  },
  "language_info": {
   "codemirror_mode": {
    "name": "ipython",
    "version": 3
   },
   "file_extension": ".py",
   "mimetype": "text/x-python",
   "name": "python",
   "nbconvert_exporter": "python",
   "pygments_lexer": "ipython3",
   "version": "3.10.1"
  }
 },
 "nbformat": 4,
 "nbformat_minor": 5
}
